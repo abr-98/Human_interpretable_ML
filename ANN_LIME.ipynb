{
 "cells": [
  {
   "cell_type": "markdown",
   "metadata": {
    "colab_type": "text",
    "id": "I7Efn9MECBoV"
   },
   "source": [
    "# Bus-Stop"
   ]
  },
  {
   "cell_type": "code",
   "execution_count": 9,
   "metadata": {
    "colab": {},
    "colab_type": "code",
    "id": "kjbHeRMcCBoX"
   },
   "outputs": [
    {
     "name": "stderr",
     "output_type": "stream",
     "text": [
      "Using TensorFlow backend.\n"
     ]
    }
   ],
   "source": [
    "from helper import *\n",
    "from IPython.display import clear_output"
   ]
  },
  {
   "cell_type": "code",
   "execution_count": 10,
   "metadata": {
    "colab": {
     "base_uri": "https://localhost:8080/",
     "height": 251
    },
    "colab_type": "code",
    "executionInfo": {
     "elapsed": 1446,
     "status": "error",
     "timestamp": 1587525724154,
     "user": {
      "displayName": "ABHIJIT ROY",
      "photoUrl": "https://lh3.googleusercontent.com/a-/AOh14GhBaCYpnhKp-DrsjWQZrT22ogIdik42Ry1dS1H5=s64",
      "userId": "16674069840608108138"
     },
     "user_tz": -330
    },
    "id": "3kZGnIsiCBod",
    "outputId": "511090f1-df3b-4b0c-fe2f-8300a61b3eeb"
   },
   "outputs": [
    {
     "name": "stderr",
     "output_type": "stream",
     "text": [
      "/home/abhijit/.local/lib/python3.6/site-packages/sklearn/utils/validation.py:724: DataConversionWarning: A column-vector y was passed when a 1d array was expected. Please change the shape of y to (n_samples, ), for example using ravel().\n",
      "  y = column_or_1d(y, warn=True)\n",
      "/home/abhijit/.local/lib/python3.6/site-packages/sklearn/utils/validation.py:724: DataConversionWarning: A column-vector y was passed when a 1d array was expected. Please change the shape of y to (n_samples, ), for example using ravel().\n",
      "  y = column_or_1d(y, warn=True)\n",
      "/home/abhijit/.local/lib/python3.6/site-packages/sklearn/utils/validation.py:724: DataConversionWarning: A column-vector y was passed when a 1d array was expected. Please change the shape of y to (n_samples, ), for example using ravel().\n",
      "  y = column_or_1d(y, warn=True)\n"
     ]
    },
    {
     "name": "stdout",
     "output_type": "stream",
     "text": [
      "MinMaxScaler(copy=True, feature_range=(0, 1))\n"
     ]
    },
    {
     "name": "stderr",
     "output_type": "stream",
     "text": [
      "/home/abhijit/.local/lib/python3.6/site-packages/sklearn/utils/validation.py:724: DataConversionWarning: A column-vector y was passed when a 1d array was expected. Please change the shape of y to (n_samples, ), for example using ravel().\n",
      "  y = column_or_1d(y, warn=True)\n",
      "/home/abhijit/.local/lib/python3.6/site-packages/sklearn/utils/validation.py:724: DataConversionWarning: A column-vector y was passed when a 1d array was expected. Please change the shape of y to (n_samples, ), for example using ravel().\n",
      "  y = column_or_1d(y, warn=True)\n"
     ]
    }
   ],
   "source": [
    "datasets=[]\n",
    "s=[]\n",
    "dataset_temp=[]\n",
    "X_train_bus_stop, X_test_bus_stop, y_train_bus_stop, y_test_bus_stop,s_bus_stop=get_datasets('bus_stop')\n",
    "dataset_temp.append(X_train_bus_stop)\n",
    "dataset_temp.append(X_test_bus_stop)\n",
    "dataset_temp.append(y_train_bus_stop)\n",
    "dataset_temp.append(y_test_bus_stop)\n",
    "datasets.append(dataset_temp)\n",
    "s.append(s_bus_stop)\n",
    "dataset_temp=[]\n",
    "X_train_norm_road, X_test_norm_road, y_train_norm_road, y_test_norm_road,s_norm_road=get_datasets('norm_road')\n",
    "dataset_temp.append(X_train_norm_road)\n",
    "dataset_temp.append(X_test_norm_road)\n",
    "dataset_temp.append(y_train_norm_road)\n",
    "dataset_temp.append(y_test_norm_road)\n",
    "datasets.append(dataset_temp)\n",
    "s.append(s_norm_road)\n",
    "dataset_temp=[]\n",
    "X_train_Signal, X_test_Signal, y_train_Signal, y_test_Signal,s_Signal=get_datasets('Signal')\n",
    "dataset_temp.append(X_train_Signal)\n",
    "dataset_temp.append(X_test_Signal)\n",
    "dataset_temp.append(y_train_Signal)\n",
    "dataset_temp.append(y_test_Signal)\n",
    "datasets.append(dataset_temp)\n",
    "s.append(s_Signal)\n",
    "dataset_temp=[]\n",
    "X_train_Turn, X_test_Turn, y_train_Turn, y_test_Turn,s_Turn=get_datasets('Turn')\n",
    "dataset_temp.append(X_train_Turn)\n",
    "dataset_temp.append(X_test_Turn)\n",
    "dataset_temp.append(y_train_Turn)\n",
    "dataset_temp.append(y_test_Turn)\n",
    "datasets.append(dataset_temp)\n",
    "s.append(s_Turn)\n",
    "dataset_temp=[]\n",
    "X_train_Congestion, X_test_Congestion, y_train_Congestion, y_test_Congestion,s_Congestion=get_datasets('Congestion')\n",
    "dataset_temp.append(X_train_Congestion)\n",
    "dataset_temp.append(X_test_Congestion)\n",
    "dataset_temp.append(y_train_Congestion)\n",
    "dataset_temp.append(y_test_Congestion)\n",
    "datasets.append(dataset_temp)\n",
    "s.append(s_Congestion)\n",
    "print(s_Congestion)"
   ]
  },
  {
   "cell_type": "code",
   "execution_count": 11,
   "metadata": {
    "colab": {},
    "colab_type": "code",
    "id": "CU9Xe3o-CBok"
   },
   "outputs": [],
   "source": [
    "import pandas as pd\n",
    "import numpy as np\n",
    "import os\n",
    "def data_set_merged(datasets,index):\n",
    "    \n",
    "    \n",
    "    dataframe_Set=[]\n",
    "    \n",
    "    target_columns=['bus_stop','norm_road','Signal','Turn','Congestion']\n",
    "    \n",
    "    feat_column=['next_stop_distance','total_waiting_time','wifi_count','honks','rsi','zone_highway','zone_market_place','zone_normal_city','time_level_1','time_level_2','time_level_3','time_level_4','Population_density_dense','Population_density_medium','Population_density_sparse','Weekend/day_Week-day','Weekend/day_Week-end']\n",
    "    \n",
    "    i=0\n",
    "    while i<4:\n",
    "        if i in [0,1]:\n",
    "            df=pd.DataFrame(datasets[i],columns=feat_column)\n",
    "            dataframe_Set.append(df)\n",
    "        else:\n",
    "            df=pd.DataFrame(datasets[i],columns=[target_columns[index]])\n",
    "            dataframe_Set.append(df)\n",
    "        i+=1\n",
    "    df_train=pd.concat([dataframe_Set[0],dataframe_Set[2]],axis=1)\n",
    "    df_test=pd.concat([dataframe_Set[1],dataframe_Set[3]],axis=1)\n",
    "    os.mkdir('Datasets/'+target_columns[index]+'_dataset')\n",
    "    fldr=target_columns[index]+'_dataset'\n",
    "    df_train.to_csv('Datasets/'+fldr+'/'+'train.csv')\n",
    "    df_test.to_csv('Datasets/'+fldr+'/'+'test.csv')\n",
    "    \n",
    "    "
   ]
  },
  {
   "cell_type": "code",
   "execution_count": 12,
   "metadata": {},
   "outputs": [],
   "source": [
    "class Neural_Network:\n",
    "    def __init__(self,training,name,X_train,y_train,X_test,y_test,s,training_columns):\n",
    "        self.name=name\n",
    "        self.scalar=s\n",
    "        if training:\n",
    "            self.model,self.history=Get_trained_model_on_data(training_columns,\n",
    "                                                              X_train,y_train,\n",
    "                                                              X_test,y_test,\n",
    "                                                              data_class=self.name)\n",
    "        else:\n",
    "            self.model=tf.keras.models.load_model('./saved/{}_model.h5'.format(self.name))\n",
    "\n",
    "        ''' self.barplots,self.lineplots=plot_all_information(self.model,\n",
    "                                                              self.name,\n",
    "                                                              X_test,y_test)\n",
    "        \n",
    "        self.train_acc,self.test_acc,self.classify_rept=get_numeric_reports(self.model,\n",
    "                                                                            X_train,y_train,\n",
    "                                                                            X_test,y_test)'''\n",
    "        clear_output()\n",
    "        \n",
    "    def predict_classes(self,X):\n",
    "        l=self.model.predict(X)\n",
    "        i=0\n",
    "        final=[]\n",
    "        while i<len(l):\n",
    "            temp=l[i][0]\n",
    "            temp_2=float(float(1)-l[i][0])\n",
    "           # print(temp)\n",
    "           # print(temp_2)\n",
    "            arr=np.array([temp,temp_2],dtype='float32')\n",
    "            i+=1\n",
    "            final.append(arr)\n",
    "        return np.array(final, dtype='float32')\n",
    "        \n",
    "    def summary(self):\n",
    "        self.model.summary()\n",
    "   "
   ]
  },
  {
   "cell_type": "code",
   "execution_count": 13,
   "metadata": {},
   "outputs": [],
   "source": [
    "def caller():\n",
    "    noter=open('test_maintain.txt','w')\n",
    "    noter.close()\n",
    "    datasets=[]\n",
    "    s=[]\n",
    "    dataset_temp=[]\n",
    "    X_train_bus_stop, X_test_bus_stop, y_train_bus_stop, y_test_bus_stop,s_bus_stop=get_datasets('bus_stop')\n",
    "    dataset_temp.append(X_train_bus_stop)\n",
    "    dataset_temp.append(X_test_bus_stop)\n",
    "    dataset_temp.append(y_train_bus_stop)\n",
    "    dataset_temp.append(y_test_bus_stop)\n",
    "    datasets.append(dataset_temp)\n",
    "    s.append(s_bus_stop)\n",
    "    dataset_temp=[]\n",
    "    X_train_norm_road, X_test_norm_road, y_train_norm_road, y_test_norm_road,s_norm_road=get_datasets('norm_road')\n",
    "    dataset_temp.append(X_train_norm_road)\n",
    "    dataset_temp.append(X_test_norm_road)\n",
    "    dataset_temp.append(y_train_norm_road)\n",
    "    dataset_temp.append(y_test_norm_road)\n",
    "    datasets.append(dataset_temp)\n",
    "    s.append(s_norm_road)\n",
    "    dataset_temp=[]\n",
    "    X_train_Signal, X_test_Signal, y_train_Signal, y_test_Signal,s_Signal=get_datasets('Signal')\n",
    "    dataset_temp.append(X_train_Signal)\n",
    "    dataset_temp.append(X_test_Signal)\n",
    "    dataset_temp.append(y_train_Signal)\n",
    "    dataset_temp.append(y_test_Signal)\n",
    "    datasets.append(dataset_temp)\n",
    "    s.append(s_Signal)\n",
    "    dataset_temp=[]\n",
    "    X_train_Turn, X_test_Turn, y_train_Turn, y_test_Turn,s_Turn=get_datasets('Turn')\n",
    "    dataset_temp.append(X_train_Turn)\n",
    "    dataset_temp.append(X_test_Turn)\n",
    "    dataset_temp.append(y_train_Turn)\n",
    "    dataset_temp.append(y_test_Turn)\n",
    "    datasets.append(dataset_temp)\n",
    "    s.append(s_Turn)\n",
    "    dataset_temp=[]\n",
    "    X_train_Congestion, X_test_Congestion, y_train_Congestion, y_test_Congestion,s_Congestion=get_datasets('Congestion')\n",
    "    dataset_temp.append(X_train_Congestion)\n",
    "    dataset_temp.append(X_test_Congestion)\n",
    "    dataset_temp.append(y_train_Congestion)\n",
    "    dataset_temp.append(y_test_Congestion)\n",
    "    datasets.append(dataset_temp)\n",
    "    s.append(s_Congestion)\n",
    "    if not os.path.exists('Datasets'):\n",
    "        os.mkdir('Datasets')\n",
    "        i=0\n",
    "        while i<5:\n",
    "            data_set_merged(datasets[i],i)\n",
    "            i+=1\n",
    "        \n",
    "    feat_set=[[16, 13, 9, 1, 10, 5, 0, 6, 14, 15, 7],[1, 0, 15, 9, 11, 14, 10, 2, 7, 5, 6, 13, 16, 12],[3, 4, 1, 0, 10, 15, 2, 9, 8, 14, 11, 13, 7, 5, 12, 6, 16],[4, 1, 10, 2, 0, 9, 8, 6, 11, 16, 13, 12, 15, 5, 7],[0, 2, 11, 8, 10, 9, 1, 12, 13, 16, 6, 15, 5, 7]]\n",
    "    \n",
    "    fldr='Datasets'\n",
    "    files=os.listdir(fldr)\n",
    "    for i in files:\n",
    "        files_inside=os.listdir(fldr+'/'+i)\n",
    "        print(i)\n",
    "        if 'bus_stop' in i: j=0\n",
    "        if 'norm_road' in i: j=1\n",
    "        if 'Signal' in i: j=2\n",
    "        if 'Turn' in i: j=3\n",
    "        if 'Congestion' in i: j=4\n",
    "        print(j)\n",
    "        s_req=s[j]\n",
    "        l=feat_set[j]\n",
    "        file1=files_inside[0]\n",
    "        print(file1)\n",
    "        file2=files_inside[1]\n",
    "        \n",
    "        ext=i[:-8]\n",
    "        print(fldr+'/'+i+'/'+file1)\n",
    "        print(ext)\n",
    "        ANN_computer(fldr+'/'+i+'/'+file1,fldr+'/'+i+'/'+file2,ext,l,s_req)\n",
    "        #print(s_Congestion)"
   ]
  },
  {
   "cell_type": "code",
   "execution_count": 16,
   "metadata": {},
   "outputs": [],
   "source": [
    "import pandas as pd\n",
    "import numpy as np\n",
    "import matplotlib.pyplot as plt\n",
    "import seaborn as sns\n",
    "import random\n",
    "\n",
    "import xgboost as xgb\n",
    "from xgboost import XGBClassifier\n",
    "from sklearn.ensemble import RandomForestClassifier\n",
    "from sklearn.ensemble import GradientBoostingClassifier\n",
    "from sklearn.model_selection import train_test_split\n",
    "from sklearn.metrics import accuracy_score,f1_score\n",
    "#import lime\n",
    "import lime.lime_tabular\n",
    "def ANN_computer(file_1,file_2,ext,l,s):\n",
    "    #X_train_bus_stop, X_test_bus_stop, y_train_bus_stop, y_test_bus_stop,s_bus_stop=get_datasets(ext)\n",
    "    #data_set_merged()\n",
    "    df1=pd.read_csv(file_1)\n",
    "    df2=pd.read_csv(file_2)\n",
    "    \n",
    "    #print(df1.head())\n",
    "    #print(df2.head())\n",
    "    #print(ext)\n",
    "    all_feat=['next_stop_distance', 'total_waiting_time', 'wifi_count', 'honks',\n",
    "       'rsi', 'zone_highway', 'zone_market_place', 'zone_normal_city',\n",
    "       'time_level_1', 'time_level_2', 'time_level_3', 'time_level_4',\n",
    "       'Population_density_dense', 'Population_density_medium',\n",
    "       'Population_density_sparse', 'Weekend/day_Week-day',\n",
    "       'Weekend/day_Week-end']\n",
    "    features=[]\n",
    "    for z in l:\n",
    "        features.append(all_feat[z])\n",
    "    X_train=df1[all_feat].values\n",
    "    Y_train=df1[ext].values\n",
    "\n",
    "    X_test=df2[all_feat].values\n",
    "    Y_test=df2[ext].values\n",
    "    ext_1='not_'+ext\n",
    "\n",
    "    \n",
    "    classes=[ext,ext_1]\n",
    "    #features=['next_stop_distance','total_waiting_time','wifi_count','honks','rsi','zone_highway','zone_market_place','zone_normal_city','time_level_1','time_level_2','time_level_3','time_level_4','Population_density_dense','Population_density_medium','Population_density_sparse','Weekend/day_Week-day','Weekend/day_Week-end']\n",
    "\n",
    "    #X_train, X_test, Y_train, Y_test = train_test_split(X,Y,random_state=42, test_size=0.2)\n",
    "    training=False\n",
    "    model_nn=Neural_Network(training,ext,X_train,Y_train, X_test,Y_test,s,l)\n",
    "    #model_gb.fit(X_train,Y_train)\n",
    "    print(model_nn.predict_classes(X_train).astype(float))\n",
    "    predict_fn_nn= lambda x: model_nn.predict_classes(x).astype(float)\n",
    "\n",
    "    explainer = lime.lime_tabular.LimeTabularExplainer(X_train,mode='classification',feature_selection= 'auto',\n",
    "                                                   class_names=classes,feature_names = all_feat, \n",
    "                                                   kernel_width=None,discretize_continuous=True)\n",
    "    noter=open('test_maintain.txt','a')\n",
    "    \n",
    "    os.mkdir(ext+'_LIME_ANN')\n",
    "    ext_file=ext+'_LIME_ANN/'\n",
    "    for k in range(5):\n",
    "        observation_1=random.randint(0,len(df2))\n",
    "        name=ext_file+str(observation_1)+'.html'\n",
    "        print(name)\n",
    "        exp = explainer.explain_instance(X_test[observation_1], predict_fn_nn, num_features=5,top_labels=1)\n",
    "        exp.save_to_file(name)\n",
    "        noter.write(str(ext)+\"   \"+str(observation_1)+\"     \"+str(Y_test[observation_1])+'\\n')\n",
    "    noter.close()\n",
    "        "
   ]
  },
  {
   "cell_type": "code",
   "execution_count": 18,
   "metadata": {},
   "outputs": [
    {
     "name": "stdout",
     "output_type": "stream",
     "text": [
      "[[7.06635594e-01 2.93364406e-01]\n",
      " [1.00000000e+00 0.00000000e+00]\n",
      " [3.90827656e-04 9.99609172e-01]\n",
      " ...\n",
      " [1.13984588e-05 9.99988616e-01]\n",
      " [0.00000000e+00 1.00000000e+00]\n",
      " [0.00000000e+00 1.00000000e+00]]\n",
      "Congestion_LIME_ANN/386.html\n",
      "Congestion_LIME_ANN/209.html\n",
      "Congestion_LIME_ANN/276.html\n",
      "Congestion_LIME_ANN/688.html\n",
      "Congestion_LIME_ANN/374.html\n"
     ]
    }
   ],
   "source": [
    "caller()"
   ]
  },
  {
   "cell_type": "code",
   "execution_count": null,
   "metadata": {},
   "outputs": [],
   "source": []
  },
  {
   "cell_type": "code",
   "execution_count": null,
   "metadata": {},
   "outputs": [],
   "source": []
  },
  {
   "cell_type": "code",
   "execution_count": null,
   "metadata": {},
   "outputs": [],
   "source": []
  }
 ],
 "metadata": {
  "colab": {
   "name": "LIME_XGB.ipynb",
   "provenance": []
  },
  "kernelspec": {
   "display_name": "Python 3",
   "language": "python",
   "name": "python3"
  },
  "language_info": {
   "codemirror_mode": {
    "name": "ipython",
    "version": 3
   },
   "file_extension": ".py",
   "mimetype": "text/x-python",
   "name": "python",
   "nbconvert_exporter": "python",
   "pygments_lexer": "ipython3",
   "version": "3.6.9"
  }
 },
 "nbformat": 4,
 "nbformat_minor": 1
}
