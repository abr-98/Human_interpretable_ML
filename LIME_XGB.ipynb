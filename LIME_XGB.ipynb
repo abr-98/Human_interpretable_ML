{
 "cells": [
  {
   "cell_type": "markdown",
   "metadata": {
    "colab_type": "text",
    "id": "I7Efn9MECBoV"
   },
   "source": [
    "# Bus-Stop"
   ]
  },
  {
   "cell_type": "code",
   "execution_count": 33,
   "metadata": {
    "colab": {},
    "colab_type": "code",
    "id": "kjbHeRMcCBoX"
   },
   "outputs": [],
   "source": [
    "from helper import *\n",
    "from IPython.display import clear_output"
   ]
  },
  {
   "cell_type": "code",
   "execution_count": 34,
   "metadata": {
    "colab": {
     "base_uri": "https://localhost:8080/",
     "height": 251
    },
    "colab_type": "code",
    "executionInfo": {
     "elapsed": 1446,
     "status": "error",
     "timestamp": 1587525724154,
     "user": {
      "displayName": "ABHIJIT ROY",
      "photoUrl": "https://lh3.googleusercontent.com/a-/AOh14GhBaCYpnhKp-DrsjWQZrT22ogIdik42Ry1dS1H5=s64",
      "userId": "16674069840608108138"
     },
     "user_tz": -330
    },
    "id": "3kZGnIsiCBod",
    "outputId": "511090f1-df3b-4b0c-fe2f-8300a61b3eeb"
   },
   "outputs": [
    {
     "name": "stderr",
     "output_type": "stream",
     "text": [
      "/home/abhijit/.local/lib/python3.6/site-packages/sklearn/utils/validation.py:724: DataConversionWarning: A column-vector y was passed when a 1d array was expected. Please change the shape of y to (n_samples, ), for example using ravel().\n",
      "  y = column_or_1d(y, warn=True)\n",
      "/home/abhijit/.local/lib/python3.6/site-packages/sklearn/utils/validation.py:724: DataConversionWarning: A column-vector y was passed when a 1d array was expected. Please change the shape of y to (n_samples, ), for example using ravel().\n",
      "  y = column_or_1d(y, warn=True)\n",
      "/home/abhijit/.local/lib/python3.6/site-packages/sklearn/utils/validation.py:724: DataConversionWarning: A column-vector y was passed when a 1d array was expected. Please change the shape of y to (n_samples, ), for example using ravel().\n",
      "  y = column_or_1d(y, warn=True)\n",
      "/home/abhijit/.local/lib/python3.6/site-packages/sklearn/utils/validation.py:724: DataConversionWarning: A column-vector y was passed when a 1d array was expected. Please change the shape of y to (n_samples, ), for example using ravel().\n",
      "  y = column_or_1d(y, warn=True)\n",
      "/home/abhijit/.local/lib/python3.6/site-packages/sklearn/utils/validation.py:724: DataConversionWarning: A column-vector y was passed when a 1d array was expected. Please change the shape of y to (n_samples, ), for example using ravel().\n",
      "  y = column_or_1d(y, warn=True)\n"
     ]
    }
   ],
   "source": [
    "datasets=[]\n",
    "dataset_temp=[]\n",
    "X_train_bus_stop, X_test_bus_stop, y_train_bus_stop, y_test_bus_stop,s_bus_stop=get_datasets('bus_stop')\n",
    "dataset_temp.append(X_train_bus_stop)\n",
    "dataset_temp.append(X_test_bus_stop)\n",
    "dataset_temp.append(y_train_bus_stop)\n",
    "dataset_temp.append(y_test_bus_stop)\n",
    "datasets.append(dataset_temp)\n",
    "dataset_temp=[]\n",
    "X_train_norm_road, X_test_norm_road, y_train_norm_road, y_test_norm_road,s_norm_road=get_datasets('norm_road')\n",
    "dataset_temp.append(X_train_norm_road)\n",
    "dataset_temp.append(X_test_norm_road)\n",
    "dataset_temp.append(y_train_norm_road)\n",
    "dataset_temp.append(y_test_norm_road)\n",
    "datasets.append(dataset_temp)\n",
    "dataset_temp=[]\n",
    "X_train_Signal, X_test_Signal, y_train_Signal, y_test_Signal,s_Signal=get_datasets('Signal')\n",
    "dataset_temp.append(X_train_Signal)\n",
    "dataset_temp.append(X_test_Signal)\n",
    "dataset_temp.append(y_train_Signal)\n",
    "dataset_temp.append(y_test_Signal)\n",
    "datasets.append(dataset_temp)\n",
    "dataset_temp=[]\n",
    "X_train_Turn, X_test_Turn, y_train_Turn, y_test_Turn,s_Turn=get_datasets('Turn')\n",
    "dataset_temp.append(X_train_Turn)\n",
    "dataset_temp.append(X_test_Turn)\n",
    "dataset_temp.append(y_train_Turn)\n",
    "dataset_temp.append(y_test_Turn)\n",
    "datasets.append(dataset_temp)\n",
    "dataset_temp=[]\n",
    "X_train_Congestion, X_test_Congestion, y_train_Congestion, y_test_Congestion,s_Congestion=get_datasets('Congestion')\n",
    "dataset_temp.append(X_train_Congestion)\n",
    "dataset_temp.append(X_test_Congestion)\n",
    "dataset_temp.append(y_train_Congestion)\n",
    "dataset_temp.append(y_test_Congestion)\n",
    "datasets.append(dataset_temp)"
   ]
  },
  {
   "cell_type": "code",
   "execution_count": 35,
   "metadata": {
    "colab": {},
    "colab_type": "code",
    "id": "CU9Xe3o-CBok"
   },
   "outputs": [],
   "source": [
    "import pandas as pd\n",
    "import numpy as np\n",
    "import os\n",
    "def data_set_merged(datasets,index):\n",
    "    \n",
    "    dataframe_Set=[]\n",
    "    \n",
    "    target_columns=['bus_stop','norm_road','Signal','Turn','Congestion']\n",
    "    \n",
    "    feat_column=['next_stop_distance','total_waiting_time','wifi_count','honks','rsi','zone_highway','zone_market_place','zone_normal_city','time_level_1','time_level_2','time_level_3','time_level_4','Population_density_dense','Population_density_medium','Population_density_sparse','Weekend/day_Week-day','Weekend/day_Week-end']\n",
    "    \n",
    "    i=0\n",
    "    while i<4:\n",
    "        if i in [0,1]:\n",
    "            df=pd.DataFrame(datasets[i],columns=feat_column)\n",
    "            dataframe_Set.append(df)\n",
    "        else:\n",
    "            df=pd.DataFrame(datasets[i],columns=[target_columns[index]])\n",
    "            dataframe_Set.append(df)\n",
    "        i+=1\n",
    "    df_train=pd.concat([dataframe_Set[0],dataframe_Set[2]],axis=1)\n",
    "    df_test=pd.concat([dataframe_Set[1],dataframe_Set[3]],axis=1)\n",
    "    os.mkdir(target_columns[index]+'_dataset')\n",
    "    fldr=target_columns[index]+'_dataset'\n",
    "    df_train.to_csv(fldr+'/'+'train.csv')\n",
    "    df_test.to_csv(fldr+'/'+'test.csv')\n",
    "    \n",
    "    "
   ]
  },
  {
   "cell_type": "code",
   "execution_count": 36,
   "metadata": {
    "colab": {},
    "colab_type": "code",
    "id": "qmZG-hrjCBoo"
   },
   "outputs": [],
   "source": [
    "i=0\n",
    "while i<5:\n",
    "    data_set_merged(datasets[i],i)\n",
    "    i+=1"
   ]
  },
  {
   "cell_type": "code",
   "execution_count": 37,
   "metadata": {
    "colab": {
     "base_uri": "https://localhost:8080/",
     "height": 421
    },
    "colab_type": "code",
    "executionInfo": {
     "elapsed": 3537,
     "status": "error",
     "timestamp": 1587525646075,
     "user": {
      "displayName": "ABHIJIT ROY",
      "photoUrl": "https://lh3.googleusercontent.com/a-/AOh14GhBaCYpnhKp-DrsjWQZrT22ogIdik42Ry1dS1H5=s64",
      "userId": "16674069840608108138"
     },
     "user_tz": -330
    },
    "id": "EOTNI-vtCBot",
    "outputId": "e8be8d89-1c75-49b7-8da6-33b4805b7e40"
   },
   "outputs": [],
   "source": [
    "import pandas as pd\n",
    "import numpy as np\n",
    "import matplotlib.pyplot as plt\n",
    "import seaborn as sns\n",
    "import random\n",
    "\n",
    "import xgboost as xgb\n",
    "from xgboost import XGBClassifier\n",
    "from sklearn.ensemble import RandomForestClassifier\n",
    "from sklearn.ensemble import GradientBoostingClassifier\n",
    "from sklearn.model_selection import train_test_split\n",
    "from sklearn.metrics import accuracy_score,f1_score\n",
    "#import lime\n",
    "import lime.lime_tabular\n",
    "def lime_computer(file_1,file_2,ext):\n",
    "    df1=pd.read_csv(file_1)\n",
    "    df2=pd.read_csv(file_2)\n",
    "    #print(df1.head())\n",
    "    #print(df2.head())\n",
    "    #print(ext)\n",
    "\n",
    "    X_train=df1[['next_stop_distance','total_waiting_time','wifi_count','honks','rsi','zone_highway','zone_market_place','zone_normal_city','time_level_1','time_level_2','time_level_3','time_level_4','Population_density_dense','Population_density_medium','Population_density_sparse','Weekend/day_Week-day','Weekend/day_Week-end']].values\n",
    "    Y_train=df1[ext].values\n",
    "\n",
    "    X_test=df2[['next_stop_distance','total_waiting_time','wifi_count','honks','rsi','zone_highway','zone_market_place','zone_normal_city','time_level_1','time_level_2','time_level_3','time_level_4','Population_density_dense','Population_density_medium','Population_density_sparse','Weekend/day_Week-day','Weekend/day_Week-end']].values\n",
    "    Y_test=df2[ext].values\n",
    "    ext_1='not_'+ext\n",
    "\n",
    "    classes=[ext,ext_1]\n",
    "    features=['next_stop_distance','total_waiting_time','wifi_count','honks','rsi','zone_highway','zone_market_place','zone_normal_city','time_level_1','time_level_2','time_level_3','time_level_4','Population_density_dense','Population_density_medium','Population_density_sparse','Weekend/day_Week-day','Weekend/day_Week-end']\n",
    "\n",
    "    #X_train, X_test, Y_train, Y_test = train_test_split(X,Y,random_state=42, test_size=0.2)\n",
    "\n",
    "    model_gb=GradientBoostingClassifier()\n",
    "    model_gb.fit(X_train,Y_train)\n",
    "    print(type(model_gb.predict_proba(X_test).astype(float)[0]))\n",
    "\n",
    "    predict_fn_gb= lambda x: model_gb.predict_proba(x).astype(float)\n",
    "\n",
    "   # print(type(predict_fn_gb))\n",
    "    explainer = lime.lime_tabular.LimeTabularExplainer(X_train,mode='classification',feature_selection= 'auto',\n",
    "                                                   class_names=classes,feature_names = features, \n",
    "                                                   kernel_width=None,discretize_continuous=True)\n",
    "    print(\"S\")\n",
    "    \n",
    "    os.mkdir(ext+'_LIME')\n",
    "    ext_file=ext+'_LIME/'\n",
    "    for k in range(5):\n",
    "        observation_1=random.randint(0,len(df2))\n",
    "        name=ext_file+str(observation_1)+'.html'\n",
    "        exp = explainer.explain_instance(X_test[observation_1], predict_fn_gb, num_features=5,top_labels=1)\n",
    "        #exp.save_to_file(name)\n",
    "        \n",
    "        \n"
   ]
  },
  {
   "cell_type": "code",
   "execution_count": 39,
   "metadata": {
    "colab": {},
    "colab_type": "code",
    "id": "rwFOtQxCCBox"
   },
   "outputs": [
    {
     "name": "stdout",
     "output_type": "stream",
     "text": [
      "<class 'numpy.ndarray'>\n",
      "S\n",
      "<class 'numpy.ndarray'>\n",
      "S\n",
      "<class 'numpy.ndarray'>\n",
      "S\n",
      "<class 'numpy.ndarray'>\n",
      "S\n",
      "<class 'numpy.ndarray'>\n",
      "S\n"
     ]
    }
   ],
   "source": [
    "fldr='datasets'\n",
    "files=os.listdir(fldr)\n",
    "for i in files:\n",
    "    #print(i)\n",
    "    files_inside=os.listdir(fldr+'/'+i)\n",
    "    \n",
    "    file1=files_inside[0]\n",
    "    #print(file1)\n",
    "    file2=files_inside[1]\n",
    "    ext=i[:-8]\n",
    "    if os.path.exists(ext+'_LIME'):\n",
    "        os.remove(ext+'_LIME')\n",
    "    lime_computer(fldr+'/'+i+'/'+file1,fldr+'/'+i+'/'+file2,ext)"
   ]
  },
  {
   "cell_type": "code",
   "execution_count": null,
   "metadata": {},
   "outputs": [],
   "source": []
  }
 ],
 "metadata": {
  "colab": {
   "name": "LIME_XGB.ipynb",
   "provenance": []
  },
  "kernelspec": {
   "display_name": "Python 3",
   "language": "python",
   "name": "python3"
  },
  "language_info": {
   "codemirror_mode": {
    "name": "ipython",
    "version": 3
   },
   "file_extension": ".py",
   "mimetype": "text/x-python",
   "name": "python",
   "nbconvert_exporter": "python",
   "pygments_lexer": "ipython3",
   "version": "3.6.9"
  }
 },
 "nbformat": 4,
 "nbformat_minor": 1
}
